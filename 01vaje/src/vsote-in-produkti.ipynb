{
 "cells": [
  {
   "cell_type": "code",
   "execution_count": 2,
   "metadata": {},
   "outputs": [],
   "source": [
    "#[derive(Debug, PartialEq, PartialOrd)] //tole nam omogoči, da iz definicije tipa izpeljemo IZPIS tipa, da ENAČIMO, PRIMERJAMO in UREJAMO stvari\n",
    "struct Student {\n",
    "    vpisna: u32,\n",
    "    ime: String,\n",
    "    priimek: String,\n",
    "}"
   ]
  },
  {
   "cell_type": "markdown",
   "metadata": {},
   "source": [
    "Tole lahko v filu napišemo, nemoremo pa tega spodnjega napisat, ker v rustu na vrhnjem nivoju lahko definiraš le funkcije, tipe in konstante. Lahko pa tole definiramo znotrej funkcije main naprimer\n",
    "\n",
    "Struktura je lastnik vseh svojih polj. Če nesem npr. ime v neko funkcijo, ki vzame lastništvo, potem kr cels truktura neha obstajat."
   ]
  },
  {
   "cell_type": "code",
   "execution_count": 3,
   "metadata": {},
   "outputs": [],
   "source": [
    "let mut anara = Student {\n",
    "    vpisna: 27221040,\n",
    "    ime: String::from(\"Anara\"),\n",
    "    priimek: String::from(\"Nemanic\")\n",
    "};\n",
    "let luka = Student {\n",
    "    vpisna: 27221077,\n",
    "    ime: String::from(\"Luka\"),\n",
    "    priimek: String::from(\"Ponikvar\")\n",
    "};"
   ]
  },
  {
   "cell_type": "code",
   "execution_count": 4,
   "metadata": {},
   "outputs": [],
   "source": [
    "let matija = Student {\n",
    "    vpisna: anara.vpisna, //tole si lahko sposodim brez prevzema lastništva, ker se številka da kopirat\n",
    "    ime: anara.ime.clone(), // če naredim brez klona, anara neha obstajat\n",
    "    priimek: String::from(\"Pretnar\"),\n",
    "};"
   ]
  },
  {
   "cell_type": "code",
   "execution_count": 5,
   "metadata": {},
   "outputs": [
    {
     "data": {
      "text/plain": [
       "Student { vpisna: 27221040, ime: \"Anara\", priimek: \"Pretnar\" }"
      ]
     },
     "execution_count": 5,
     "metadata": {},
     "output_type": "execute_result"
    }
   ],
   "source": [
    "matija"
   ]
  },
  {
   "cell_type": "code",
   "execution_count": 6,
   "metadata": {},
   "outputs": [
    {
     "data": {
      "text/plain": [
       "false"
      ]
     },
     "execution_count": 6,
     "metadata": {},
     "output_type": "execute_result"
    }
   ],
   "source": [
    "anara == luka"
   ]
  },
  {
   "cell_type": "code",
   "execution_count": 7,
   "metadata": {},
   "outputs": [
    {
     "data": {
      "text/plain": [
       "27221040"
      ]
     },
     "execution_count": 7,
     "metadata": {},
     "output_type": "execute_result"
    }
   ],
   "source": [
    "anara.vpisna"
   ]
  },
  {
   "cell_type": "code",
   "execution_count": 8,
   "metadata": {},
   "outputs": [],
   "source": [
    "anara.vpisna = 12345678;"
   ]
  },
  {
   "cell_type": "markdown",
   "metadata": {},
   "source": [
    "&str -> rezina niza (dva veljavna kazalca na niz - začetek in konec rezine, ki nas zanima)\n",
    "če ti napišeš let x = \"abcd\", bo to rust razumeu kot &str in ne kot String, ker je to nekak fiksno v strojni kodi. Torej je ta x rezina, ki kaže na tist del sttrojne kode, kjer se začne \"a\" in konča \"d\"\n",
    "\n",
    "String živi na kopici\n",
    "\n",
    "Student živi na skladu, saj natančno vemo, koliko prostora bo zasedel.\n",
    "Ne moremo ga pa skopirat, ker je lastnik unih dveh Stringov.\n",
    "\n",
    "Spodej lahko vidmo, da se da definirat tud stvari, brez da poimenujemo komponente"
   ]
  },
  {
   "cell_type": "code",
   "execution_count": 9,
   "metadata": {},
   "outputs": [],
   "source": [
    "struct Kompleksno(f32, f32);\n",
    "\n",
    "// če ne bi rabil implementacij, bi lahko tudi type Kompleksno = (f32, f32) - je zgolj okrajšava\n",
    "\n",
    "// z impl napišemo sklop funkcij, ki pašejo k strukturi\n",
    "impl Kompleksno {\n",
    "    // ne rabmo dat reference na self, ker so usi tipi copyable in je ok\n",
    "    fn absolutna_vrednost (self) -> f32 {\n",
    "        (self.0.powi(2) + self.1.powi(2)).sqrt() // powi pomeni potenca na celo število, če ni celo, uporabiš powf\n",
    "    }\n",
    "}"
   ]
  },
  {
   "cell_type": "code",
   "execution_count": 10,
   "metadata": {},
   "outputs": [
    {
     "data": {
      "text/plain": [
       "1.0"
      ]
     },
     "execution_count": 10,
     "metadata": {},
     "output_type": "execute_result"
    }
   ],
   "source": [
    "let i = Kompleksno(0.0, 1.0);\n",
    "i.absolutna_vrednost() // če dam podpičje, ne bo vrnil rezultata"
   ]
  },
  {
   "cell_type": "code",
   "execution_count": 11,
   "metadata": {},
   "outputs": [
    {
     "data": {
      "text/plain": [
       "()"
      ]
     },
     "execution_count": 11,
     "metadata": {},
     "output_type": "execute_result"
    }
   ],
   "source": [
    "impl Student {\n",
    "    // dodamo referenco na self, da ne prevzamemo lastništva (včasih damo brez &, npr. če pretvarjamo iz enega tipa v drugega in hočemo da zgine)\n",
    "    fn leto_vpisa(&self) {\n",
    "        let leto = (self.vpisna - 27000000) / 10000;\n",
    "        format!(\"20{}/{}\", leto, leto + 1);\n",
    "    }\n",
    "}\n",
    "\n",
    "luka.leto_vpisa()\n",
    "\n",
    "//če ti javi napako dej restart pa run all ker on misl da dvakrat definiraš funkcijo z istim imenom"
   ]
  },
  {
   "cell_type": "markdown",
   "metadata": {},
   "source": [
    "## enum"
   ]
  },
  {
   "cell_type": "markdown",
   "metadata": {},
   "source": [
    "enum je pa pač vsota, sepravi lahko izbiraš a je to ALI to ALI to"
   ]
  },
  {
   "cell_type": "code",
   "execution_count": 19,
   "metadata": {},
   "outputs": [],
   "source": [
    "enum StatusStudenta {\n",
    "    Prvic(u8),\n",
    "    Ponovno(u8),\n",
    "    Obcasno,\n",
    "    Izredni(String)\n",
    "}\n",
    "\n",
    "// match postane lastnik npr. stringa, če ga uporabim\n",
    "// če pa match &s naredim, pa to on sam od sebe poštima\n",
    "// zato l postane referenca, in to poštimamo s tem, da damo zvezdico pred l\n",
    "\n",
    "impl StatusStudenta {\n",
    "    fn letnik(&self) -> Option<u8> {\n",
    "        match self {\n",
    "            StatusStudenta::Prvic(l) => Some(*l),\n",
    "            StatusStudenta::Ponovno(l) => Some(*l),\n",
    "            _ => None\n",
    "        }\n",
    "    }\n",
    "\n",
    "    fn je_obcasni (&self) -> bool {\n",
    "        match self {\n",
    "            StatusStudenta::Obcasno => true,\n",
    "            _ => false\n",
    "        }\n",
    "    }\n",
    "}"
   ]
  }
 ],
 "metadata": {
  "kernelspec": {
   "display_name": "Rust",
   "language": "rust",
   "name": "rust"
  },
  "language_info": {
   "codemirror_mode": "rust",
   "file_extension": ".rs",
   "mimetype": "text/rust",
   "name": "rust",
   "pygment_lexer": "rust",
   "version": ""
  }
 },
 "nbformat": 4,
 "nbformat_minor": 2
}
