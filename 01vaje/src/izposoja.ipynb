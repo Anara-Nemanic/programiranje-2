{
 "cells": [
  {
   "cell_type": "code",
   "execution_count": 12,
   "metadata": {},
   "outputs": [
    {
     "name": "stdout",
     "output_type": "stream",
     "text": [
      "11 + 20 = 31\n"
     ]
    },
    {
     "data": {
      "text/plain": [
       "()"
      ]
     },
     "execution_count": 12,
     "metadata": {},
     "output_type": "execute_result"
    }
   ],
   "source": [
    "fn sestej (x: &Box<i32>, y: &Box<i32>) -> i32 {\n",
    "    // z & damo funkciji samo DOSTOP do spremenljivk x in y, ne pa celega lastništva\n",
    "    // zato pa rabimo tudi 2 ** - s prvo * pridemo do škatle, z drugo * pa v škatlo\n",
    "    return **x + **y\n",
    "}\n",
    "\n",
    "fn povecaj (x: &mut Box<i32>) {\n",
    "    **x += 1\n",
    "}\n",
    "\n",
    "// xxx.metoda(...) = razred.metoda(&xxx, ...)\n",
    "// zato ko kličemo nekej na boxih, metode že same od sebe dajo en & pred Box in ne rabimo skrbet zato (sam učasih pa to dela probleme)\n",
    "\n",
    "fn main() {\n",
    "    let mut a = Box::new(10 as i32);\n",
    "    povecaj (&mut a);\n",
    "    let b = Box::new(20 as i32);\n",
    "    let c = sestej(&a, &b);\n",
    "    println!(\"{} + {} = {c}\", *a, *b)\n",
    "}\n",
    "\n",
    "main()"
   ]
  },
  {
   "cell_type": "code",
   "execution_count": 4,
   "metadata": {},
   "outputs": [
    {
     "ename": "Error",
     "evalue": "unused variable: `z`",
     "output_type": "error",
     "traceback": [
      "    let z = &x;",
      "        ^ warning: unused variable: `z`",
      "unused variable: `z`",
      "help: if this is intentional, prefix it with an underscore\n\n_z"
     ]
    },
    {
     "ename": "Error",
     "evalue": "cannot borrow `x` as immutable because it is also borrowed as mutable",
     "output_type": "error",
     "traceback": [
      "    let z = &x;",
      "            ^^ immutable borrow occurs here",
      "    let y = &mut x;",
      "            ^^^^^^ mutable borrow occurs here",
      "    **y += 10; ",
      "    ^^^^^^^^^ mutable borrow later used here",
      "cannot borrow `x` as immutable because it is also borrowed as mutable"
     ]
    }
   ],
   "source": [
    "// običajen objekt lahko posojaš komur koli, spremenljiv objekt pa lahko posodiš le eni osebi naenkrat, \n",
    "// ker drgač pride do konflikta interesov in oba spreminjata in ni kul\n",
    "// sepravi če js definiram mut x in ga posodim Luku, pol js ne morem spreminjat xa dokler ga ma Luka\n",
    "\n",
    "fn main() {\n",
    "    let mut x = Box::new(10);\n",
    "    *x += 10;\n",
    "    let y = &mut x;\n",
    "    let z = &x;\n",
    "    **y += 10; \n",
    "    // mamo problem, ker si z hoče sposodit x kot immutable, medtem ko y si je že sposodu x kot mutable\n",
    "}\n",
    "\n",
    "\n",
    "main()"
   ]
  },
  {
   "cell_type": "code",
   "execution_count": 6,
   "metadata": {},
   "outputs": [
    {
     "name": "stdout",
     "output_type": "stream",
     "text": [
      "20\n"
     ]
    },
    {
     "data": {
      "text/plain": [
       "()"
      ]
     },
     "execution_count": 6,
     "metadata": {},
     "output_type": "execute_result"
    }
   ],
   "source": [
    "// primer ko je treba globalno definirat x, ker drugače ne moremo dostopat do njega izven scopa... zato ga z let x samo definiramo,\n",
    "// pol ga pa v vsakem scopu posebej prvič nastavimo\n",
    "\n",
    "fn main() {\n",
    "    let b = false;\n",
    "    let x;\n",
    "    if b {\n",
    "        x = 10;\n",
    "    }\n",
    "    else {\n",
    "        x = 20;\n",
    "    }\n",
    "    println!(\"{x}\")\n",
    "}\n",
    "\n",
    "main()"
   ]
  }
 ],
 "metadata": {
  "kernelspec": {
   "display_name": "Rust",
   "language": "rust",
   "name": "rust"
  },
  "language_info": {
   "codemirror_mode": "rust",
   "file_extension": ".rs",
   "mimetype": "text/rust",
   "name": "rust",
   "pygment_lexer": "rust",
   "version": ""
  }
 },
 "nbformat": 4,
 "nbformat_minor": 2
}
